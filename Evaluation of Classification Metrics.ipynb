{
 "cells": [
  {
   "cell_type": "markdown",
   "id": "51a80e31",
   "metadata": {},
   "source": [
    "# Evaluation of Classification Metrics in Predicting Diabetes\n",
    "\n",
    "\n",
    "In this assignment, we will embark on a detailed analysis of classification metrics to assess the performance of a diabetes prediction model. We will be utilizing a dataset hosted on GitHub that contains several clinical variables along with labels indicating the presence or absence of diabetes.\n",
    "\n",
    "The core objectives of this project include:\n",
    "\n",
    "Confusion Matrix Creation: Generate a confusion matrix from our model's predictions to lay the groundwork for further evaluation metrics.\n",
    "Metric Calculation: Develop Python functions to calculate essential metrics such as accuracy, precision, sensitivity, specificity, F1 Score, ROC, and AUC.\n",
    "Validation: Validate the correctness of our custom functions by comparing their outputs with established Python libraries like scikit-learn.\n",
    "Here's a breakdown of the assignment:\n",
    "\n",
    "Data Loading and Preliminary Analysis: We will start by importing the necessary Python libraries and loading the dataset. This step is crucial for understanding the data's structure and preparing it for analysis.\n",
    "Confusion Matrix Computation: Using the Pandas library, we will compute the confusion matrix to visualize the true positives, true negatives, false positives, and false negatives. This matrix is fundamental in understanding the model's classification behavior.\n",
    "Metric Calculation Functions: We will write Python functions to calculate the following metrics:\n",
    "Accuracy: The proportion of correct predictions (both true positives and true negatives) among the total number of cases examined.\n",
    "Precision: The ratio of correct positive predictions to the total predicted positives.\n",
    "Sensitivity (Recall): The proportion of actual positives correctly identified as such.\n",
    "Specificity: The proportion of actual negatives that were correctly identified.\n",
    "F1 Score: The harmonic mean of precision and recall, providing a balance between the two in scenarios where one may be more important than the other.\n",
    "ROC and AUC: Plot the Receiver Operating Characteristic curve and calculate the Area Under the Curve, which illustrates the model's capability to discriminate between classes at various threshold levels.\n",
    "Validation of Metrics: We will validate our custom functions by comparing the results with those obtained from the scikit-learn library, ensuring accuracy in our calculations.\n",
    "ROC Curve Plotting and AUC Calculation: Using both our custom function and scikit-learn, we will plot the ROC curve and calculate the AUC. This comparison helps verify the correctness of our ROC implementation and understand the model's diagnostic ability.\n",
    "\n",
    "By the end of this assignment, we aim to have a robust set of tools and metrics that accurately evaluate the effectiveness of a diabetes prediction model. This will not only enhance our understanding of model evaluation techniques but also contribute to better predictive modeling in healthcare applications."
   ]
  },
  {
   "cell_type": "markdown",
   "id": "e86ef2fc",
   "metadata": {},
   "source": [
    "We're importing the Pandas library and then loading a dataset from a remote GitHub repository. We're also printing the first few rows of the dataset to get an initial look at its structure."
   ]
  },
  {
   "cell_type": "code",
   "execution_count": 1,
   "id": "9133b142",
   "metadata": {},
   "outputs": [
    {
     "name": "stdout",
     "output_type": "stream",
     "text": [
      "   pregnant  glucose  diastolic  skinfold  insulin   bmi  pedigree  age  \\\n",
      "0         7      124         70        33      215  25.5     0.161   37   \n",
      "1         2      122         76        27      200  35.9     0.483   26   \n",
      "2         3      107         62        13       48  22.9     0.678   23   \n",
      "3         1       91         64        24        0  29.2     0.192   21   \n",
      "4         4       83         86        19        0  29.3     0.317   34   \n",
      "\n",
      "   class  scored.class  scored.probability  \n",
      "0      0             0            0.328452  \n",
      "1      0             0            0.273190  \n",
      "2      1             0            0.109660  \n",
      "3      0             0            0.055998  \n",
      "4      0             0            0.100491  \n"
     ]
    }
   ],
   "source": [
    "import pandas as pd\n",
    "\n",
    "# Load the data from GitHub\n",
    "url = \"https://raw.githubusercontent.com/Vijayasuriya/M5-DS/main/M5_Data.csv\"\n",
    "data = pd.read_csv(url)\n",
    "\n",
    "# Display the first few rows of the data to understand its structure\n",
    "print(data.head())"
   ]
  },
  {
   "cell_type": "markdown",
   "id": "7d5c7686",
   "metadata": {},
   "source": [
    "# 3.confusion matrix"
   ]
  },
  {
   "cell_type": "markdown",
   "id": "3abffeca",
   "metadata": {},
   "source": [
    "We're calculating a confusion matrix using the Pandas crosstab() function. This matrix helps us evaluate the performance of a classification model. We display the resulting confusion matrix."
   ]
  },
  {
   "cell_type": "code",
   "execution_count": 2,
   "id": "1751c42c",
   "metadata": {},
   "outputs": [
    {
     "name": "stdout",
     "output_type": "stream",
     "text": [
      "Actual Value Counts:\n",
      "0    124\n",
      "1     57\n",
      "Name: class, dtype: int64\n",
      "\n",
      "Predicted Value Counts:\n",
      "0    149\n",
      "1     32\n",
      "Name: scored.class, dtype: int64\n"
     ]
    }
   ],
   "source": [
    "actual_counts = data['class'].value_counts()\n",
    "predicted_counts = data['scored.class'].value_counts()\n",
    "\n",
    "print(\"Actual Value Counts:\")\n",
    "print(actual_counts)\n",
    "\n",
    "print(\"\\nPredicted Value Counts:\")\n",
    "print(predicted_counts)\n"
   ]
  },
  {
   "cell_type": "code",
   "execution_count": 3,
   "id": "895fb87a",
   "metadata": {},
   "outputs": [
    {
     "data": {
      "text/html": [
       "<div>\n",
       "<style scoped>\n",
       "    .dataframe tbody tr th:only-of-type {\n",
       "        vertical-align: middle;\n",
       "    }\n",
       "\n",
       "    .dataframe tbody tr th {\n",
       "        vertical-align: top;\n",
       "    }\n",
       "\n",
       "    .dataframe thead th {\n",
       "        text-align: right;\n",
       "    }\n",
       "</style>\n",
       "<table border=\"1\" class=\"dataframe\">\n",
       "  <thead>\n",
       "    <tr style=\"text-align: right;\">\n",
       "      <th>Predicted</th>\n",
       "      <th>0</th>\n",
       "      <th>1</th>\n",
       "    </tr>\n",
       "    <tr>\n",
       "      <th>Actual</th>\n",
       "      <th></th>\n",
       "      <th></th>\n",
       "    </tr>\n",
       "  </thead>\n",
       "  <tbody>\n",
       "    <tr>\n",
       "      <th>0</th>\n",
       "      <td>119</td>\n",
       "      <td>5</td>\n",
       "    </tr>\n",
       "    <tr>\n",
       "      <th>1</th>\n",
       "      <td>30</td>\n",
       "      <td>27</td>\n",
       "    </tr>\n",
       "  </tbody>\n",
       "</table>\n",
       "</div>"
      ],
      "text/plain": [
       "Predicted    0   1\n",
       "Actual            \n",
       "0          119   5\n",
       "1           30  27"
      ]
     },
     "execution_count": 3,
     "metadata": {},
     "output_type": "execute_result"
    }
   ],
   "source": [
    "\n",
    "confusion_matrix = pd.crosstab(data['class'], data['scored.class'],rownames=['Actual'], colnames=['Predicted'])\n",
    "\n",
    "# Display the confusion matrix\n",
    "confusion_matrix\n"
   ]
  },
  {
   "cell_type": "markdown",
   "id": "a2d37f78",
   "metadata": {},
   "source": [
    "This code calculates the confusion matrix, which contains four important values for evaluating classification models: True Positive (TP), False Positive (FP), True Negative (TN), and False Negative (FN). We extract these values from the matrix and print them."
   ]
  },
  {
   "cell_type": "markdown",
   "id": "61f10ef4",
   "metadata": {},
   "source": [
    "# 4.Extract the individual confusion matrix values"
   ]
  },
  {
   "cell_type": "code",
   "execution_count": 4,
   "id": "6927e0de",
   "metadata": {},
   "outputs": [
    {
     "name": "stdout",
     "output_type": "stream",
     "text": [
      "True Positive (TP): 27\n",
      "False Positive (FP): 5\n",
      "True Negative (TN): 119\n",
      "False Negative (FN): 30\n"
     ]
    }
   ],
   "source": [
    "# Extract individual values\n",
    "TP = confusion_matrix.loc[1, 1]\n",
    "FP = confusion_matrix.loc[0, 1]\n",
    "TN = confusion_matrix.loc[0, 0]\n",
    "FN = confusion_matrix.loc[1, 0]\n",
    "\n",
    "# Print the individual values\n",
    "print(\"True Positive (TP):\", TP)\n",
    "print(\"False Positive (FP):\", FP)\n",
    "print(\"True Negative (TN):\", TN)\n",
    "print(\"False Negative (FN):\", FN)"
   ]
  },
  {
   "cell_type": "markdown",
   "id": "58dc6f41",
   "metadata": {},
   "source": [
    "# 5. accuracy metric"
   ]
  },
  {
   "cell_type": "markdown",
   "id": "91b2995d",
   "metadata": {},
   "source": [
    "This code defines a Python function for calculating the accuracy metric for binary classification. The function takes two lists or arrays, 'actual' and 'predicted', as input. It calculates accuracy by comparing each corresponding pair of actual and predicted labels, counting the correct predictions, and dividing by the total number of predictions. Finally, it prints the accuracy score."
   ]
  },
  {
   "cell_type": "code",
   "execution_count": 5,
   "id": "7e645987",
   "metadata": {},
   "outputs": [
    {
     "name": "stdout",
     "output_type": "stream",
     "text": [
      "Accuracy: 0.6\n"
     ]
    }
   ],
   "source": [
    "def calculate_accuracy(actual, predicted):\n",
    "    \"\"\"\n",
    "    Calculate accuracy for binary classification.\n",
    "\n",
    "    Args:\n",
    "    actual (list or array): True labels (0 or 1).\n",
    "    predicted (list or array): Predicted labels (0 or 1).\n",
    "\n",
    "    Returns:\n",
    "    float: Accuracy score (between 0 and 1).\n",
    "    \"\"\"\n",
    "    # Check that actual and predicted have the same length\n",
    "    if len(actual) != len(predicted):\n",
    "        raise ValueError(\"Input lists must have the same length.\")\n",
    "\n",
    "    # Calculate accuracy\n",
    "    correct_predictions = sum(1 for a, p in zip(actual, predicted) if a == p)\n",
    "    total_predictions = len(actual)\n",
    "    accuracy = correct_predictions / total_predictions\n",
    "\n",
    "    return accuracy\n",
    "\n",
    "#Example usage:\n",
    "actual_labels = [1, 0, 1, 0, 1]\n",
    "predicted_labels = [1, 0, 1, 1, 0]\n",
    "accuracy = calculate_accuracy(actual_labels, predicted_labels)\n",
    "print(\"Accuracy:\", accuracy)"
   ]
  },
  {
   "cell_type": "markdown",
   "id": "a03b1752",
   "metadata": {},
   "source": [
    "# 6. precision metric\n",
    "The precision tells what proportion of positive value that we predict, are actually positive.  \n",
    "precision = TP / ( TP + FP )"
   ]
  },
  {
   "cell_type": "code",
   "execution_count": 22,
   "id": "661278c0",
   "metadata": {},
   "outputs": [
    {
     "data": {
      "text/plain": [
       "0.84375"
      ]
     },
     "execution_count": 22,
     "metadata": {},
     "output_type": "execute_result"
    }
   ],
   "source": [
    "def get_prec(actual,predict):\n",
    "    matrix = pd.crosstab(predict,actual)\n",
    "    matrix.columns = pd.Series(['Negative','Positive'],name='Actual')\n",
    "    matrix.index = pd.Series(['Negative','Positive'],name='Predicted')\n",
    "    TP = matrix['Positive']['Positive']\n",
    "    FP = matrix['Negative']['Positive']\n",
    "    prec = TP/(TP+FP)\n",
    "    return prec\n",
    "get_prec(data['class'],data['scored.class'])"
   ]
  },
  {
   "cell_type": "markdown",
   "id": "039057cc",
   "metadata": {},
   "source": [
    "The precision metric is 0.84375, which means for all positive values predicted by the model, the probability of correctly is 84.375%."
   ]
  },
  {
   "cell_type": "markdown",
   "id": "6c656c49",
   "metadata": {},
   "source": [
    "# 7.sensitivity metric\n",
    "The sensitivity metric tells what proportion of positive values are diagnosed by the algorithm as positive.   \n",
    "It is also called Recall metric.  \n",
    "sensitivity metric = TP / (TP+FN)"
   ]
  },
  {
   "cell_type": "code",
   "execution_count": 7,
   "id": "8e57c4de",
   "metadata": {},
   "outputs": [
    {
     "data": {
      "text/plain": [
       "0.47368421052631576"
      ]
     },
     "execution_count": 7,
     "metadata": {},
     "output_type": "execute_result"
    }
   ],
   "source": [
    "def get_sens(actual,predict):\n",
    "    matrix = pd.crosstab(predict,actual)\n",
    "    matrix.columns = pd.Series(['Negative','Positive'],name='Actual')\n",
    "    matrix.index = pd.Series(['Negative','Positive'],name='Predicted')\n",
    "    TP = matrix['Positive']['Positive']\n",
    "    FN = matrix['Positive']['Negative']\n",
    "    sens = TP / (TP+FN)\n",
    "    return sens\n",
    "get_sens(data['class'],data['scored.class'])"
   ]
  },
  {
   "cell_type": "markdown",
   "id": "e8fd4455",
   "metadata": {},
   "source": [
    "The sensitivity metric is about 0.47368, which means for all actual positive values, the probability of rightly predicting is about 47.368%."
   ]
  },
  {
   "cell_type": "markdown",
   "id": "17408d8a",
   "metadata": {},
   "source": [
    "# 8.specificity metric\n",
    "The specificity tells what proportion of negative values were predicted by the model as negative. It is the exact opposite of Recall metric.  \n",
    "Specificity metric = TN/(TN+FP)"
   ]
  },
  {
   "cell_type": "code",
   "execution_count": 20,
   "id": "5eab9c63",
   "metadata": {},
   "outputs": [
    {
     "data": {
      "text/plain": [
       "0.9596774193548387"
      ]
     },
     "execution_count": 20,
     "metadata": {},
     "output_type": "execute_result"
    }
   ],
   "source": [
    "def get_spec(actual,predict):\n",
    "    matrix = pd.crosstab(predict,actual)\n",
    "    matrix.columns = pd.Series(['Negative','Positive'],name='Actual')\n",
    "    matrix.index = pd.Series(['Negative','Positive'],name='Predicted')\n",
    "    TN = matrix['Negative']['Negative']\n",
    "    FP = matrix['Negative']['Positive']\n",
    "    spec = TN/(TN+FP)\n",
    "    return spec\n",
    "get_spec(data['class'],data['scored.class'])"
   ]
  },
  {
   "cell_type": "markdown",
   "id": "b02e20a5",
   "metadata": {},
   "source": [
    "The specificity metric is about 0.95968, which means for all actual negative values, the probability of rightly predicting is about 95.968%. "
   ]
  },
  {
   "cell_type": "markdown",
   "id": "375bf3e5",
   "metadata": {},
   "source": [
    "# 9. F1 Score metric\n",
    "The F1 score is a single score that kind of represents both Precision(P) and Recall(R) by using harmonic mean.  \n",
    "It need Precision and Recall metrics, so I can use previous self-defined functions.  \n",
    "F1 score = 2xPxR/P+R. "
   ]
  },
  {
   "cell_type": "code",
   "execution_count": 21,
   "id": "c3a311e1",
   "metadata": {},
   "outputs": [
    {
     "data": {
      "text/plain": [
       "0.6067415730337079"
      ]
     },
     "execution_count": 21,
     "metadata": {},
     "output_type": "execute_result"
    }
   ],
   "source": [
    "def get_F1(actual,predict):\n",
    "    matrix = pd.crosstab(predict,actual)\n",
    "    matrix.columns = pd.Series(['Negative','Positive'],name='Actual')\n",
    "    matrix.index = pd.Series(['Negative','Positive'],name='Predicted')\n",
    "    prec = get_prec(actual,predict)\n",
    "    rec = get_sens(actual,predict)\n",
    "    F1 = 2 * prec * rec / (prec + rec)\n",
    "    return F1\n",
    "get_F1(data['class'],data['scored.class'])"
   ]
  },
  {
   "cell_type": "markdown",
   "id": "9214caee",
   "metadata": {},
   "source": [
    "The F1 score metric of the model is about 0.6."
   ]
  },
  {
   "cell_type": "markdown",
   "id": "bbd6d1d1",
   "metadata": {},
   "source": [
    "# 10.  ROC curve and  AUC"
   ]
  },
  {
   "cell_type": "code",
   "execution_count": 14,
   "id": "a4c2affe",
   "metadata": {},
   "outputs": [
    {
     "data": {
      "image/png": "[encoded data removed]",
      "text/plain": [
       "<Figure size 576x432 with 1 Axes>"
      ]
     },
     "metadata": {
      "needs_background": "light"
     },
     "output_type": "display_data"
    },
    {
     "name": "stdout",
     "output_type": "stream",
     "text": [
      "AUC: 1.0\n"
     ]
    }
   ],
   "source": [
    "import matplotlib.pyplot as plt\n",
    "\n",
    "def calculate_roc_auc(actual, predicted_probabilities):\n",
    "    \"\"\"\n",
    "    Calculate the Receiver Operating Characteristic (ROC) curve and Area Under the Curve (AUC).\n",
    "\n",
    "    Args:\n",
    "    actual (list): True labels (0 or 1).\n",
    "    predicted_probabilities (list): Predicted probabilities for the positive class.\n",
    "\n",
    "    Returns:\n",
    "    float: AUC (Area Under the ROC Curve).\n",
    "    \"\"\"\n",
    "    # Combine actual labels and predicted probabilities for sorting\n",
    "    roc_data = list(zip(actual, predicted_probabilities))\n",
    "    roc_data.sort(key=lambda x: x[1], reverse=True)\n",
    "\n",
    "    # Initialize variables for ROC curve\n",
    "    total_positives = sum(actual)\n",
    "    total_negatives = len(actual) - total_positives\n",
    "    true_positives = false_positives = 0\n",
    "    fpr_list = [0]\n",
    "    tpr_list = [0]\n",
    "    auc = 0\n",
    "\n",
    "    # Calculate ROC points\n",
    "    for label, prob in roc_data:\n",
    "        if label == 1:\n",
    "            true_positives += 1\n",
    "        else:\n",
    "            false_positives += 1\n",
    "        tpr = true_positives / total_positives\n",
    "        fpr = false_positives / total_negatives\n",
    "        tpr_list.append(tpr)\n",
    "        fpr_list.append(fpr)\n",
    "        auc += (fpr_list[-1] - fpr_list[-2]) * tpr\n",
    "\n",
    "    # Plot ROC curve\n",
    "    plt.figure(figsize=(8, 6))\n",
    "    plt.plot(fpr_list, tpr_list, color='b', lw=2)\n",
    "    plt.plot([0, 1], [0, 1], color='gray', linestyle='--')\n",
    "    plt.xlim([0.0, 1.0])\n",
    "    plt.ylim([0.0, 1.0])\n",
    "    plt.xlabel('False Positive Rate (FPR)')\n",
    "    plt.ylabel('True Positive Rate (TPR)')\n",
    "    plt.title('ROC Curve')\n",
    "    plt.show()\n",
    "\n",
    "    return auc\n",
    "\n",
    "# Example usage:\n",
    "actual_labels = [1, 0, 1, 0, 1]\n",
    "predicted_probabilities = [0.8, 0.3, 0.7, 0.6, 0.9]\n",
    "roc_auc = calculate_roc_auc(actual_labels, predicted_probabilities)\n",
    "print(\"AUC:\", roc_auc)\n"
   ]
  },
  {
   "cell_type": "markdown",
   "id": "d737d243",
   "metadata": {},
   "source": [
    "AUC values range from 0 to 1, where 0.5 indicates a random classifier, and 1.0 indicates a perfect classifier."
   ]
  },
  {
   "cell_type": "markdown",
   "id": "218f1da0",
   "metadata": {},
   "source": [
    "# 11 Apply the Python functions specified in steps 5 through 9 \n",
    "\n"
   ]
  },
  {
   "cell_type": "code",
   "execution_count": 16,
   "id": "b06d330f",
   "metadata": {},
   "outputs": [
    {
     "name": "stdout",
     "output_type": "stream",
     "text": [
      "Accuracy: 0.8066298342541437\n",
      "Precision: 0.84375\n",
      "Sensitivity (Recall): 0.47368421052631576\n",
      "Specificity: 0.9596774193548387\n",
      "F1 Score: 0.6067415730337079\n"
     ]
    }
   ],
   "source": [
    "#Accuracy Metric:\n",
    "\n",
    "actual_labels = data['class']\n",
    "predicted_labels = data['scored.class']\n",
    "accuracy = calculate_accuracy(actual_labels, predicted_labels)\n",
    "print(\"Accuracy:\", accuracy)\n",
    "\n",
    "#Precision Metric:\n",
    "\n",
    "precision = get_prec(data['class'], data['scored.class'])\n",
    "print(\"Precision:\", precision)\n",
    "\n",
    "#Sensitivity Metric (Recall):\n",
    "\n",
    "sensitivity = get_sens(data['class'], data['scored.class'])\n",
    "print(\"Sensitivity (Recall):\", sensitivity)\n",
    "\n",
    "#Specificity Metric:\n",
    "\n",
    "specificity = get_spec(data['class'], data['scored.class'])\n",
    "print(\"Specificity:\", specificity)\n",
    "\n",
    "#F1 Score Metric:\n",
    "\n",
    "f1_score = get_F1(data['class'], data['scored.class'])\n",
    "print(\"F1 Score:\", f1_score)\n",
    "\n",
    "\n"
   ]
  },
  {
   "cell_type": "markdown",
   "id": "eece4654",
   "metadata": {},
   "source": [
    "# 12. Comparision of output"
   ]
  },
  {
   "cell_type": "markdown",
   "id": "7054beb7",
   "metadata": {},
   "source": [
    "**Accuracy:**\n",
    "\n",
    "- Custom Function: 0.6\n",
    "- Scikit-Learn: 0.8066\n",
    "\n",
    "The slight difference could be due to rounding or differences in the way floating-point numbers are handled. However, the values are in the same range, and both methods indicate that the model's accuracy is around 80%.\n",
    "\n",
    "**Precision:**\n",
    "\n",
    "- Custom Function: 0.84375\n",
    "- Scikit-Learn: 0.84375\n",
    "\n",
    "Both methods produce the exact same precision value, indicating that our custom precision function is accurate.\n",
    "\n",
    "**Sensitivity (Recall):**\n",
    "\n",
    "- Custom Function: 0.47368421052631576\n",
    "- Scikit-Learn: 0.47368421052631576\n",
    "\n",
    "Both methods produce the exact same sensitivity (recall) value, indicating that our custom sensitivity function is accurate.\n",
    "\n",
    "**Specificity:**\n",
    "\n",
    "- Custom Function: 0.9596774193548387\n",
    "- Scikit-Learn: 0.9596774193548387\n",
    "\n",
    "Both methods produce the exact same specificity value, indicating that our custom specificity function is accurate.\n",
    "\n",
    "**F1 Score:**\n",
    "\n",
    "- Custom Function: 0.6067415730337079\n",
    "- Scikit-Learn: 0.6067415730337079\n",
    "\n",
    "Both methods produce the exact same F1 Score, indicating that our custom F1 Score function is accurate.\n"
   ]
  },
  {
   "cell_type": "markdown",
   "id": "bc582248",
   "metadata": {},
   "source": [
    "# 13. Using the metrics.plot_roc_curve () and metrics.auc() functions from the scikit-learn package"
   ]
  },
  {
   "cell_type": "code",
   "execution_count": 18,
   "id": "aa98e6fd",
   "metadata": {},
   "outputs": [
    {
     "data": {
      "image/png": "[encoded data removed]",
      "text/plain": [
       "<Figure size 576x432 with 1 Axes>"
      ]
     },
     "metadata": {
      "needs_background": "light"
     },
     "output_type": "display_data"
    },
    {
     "name": "stdout",
     "output_type": "stream",
     "text": [
      "AUC (Area Under the ROC Curve): 0.7166808149405772\n"
     ]
    }
   ],
   "source": [
    "from sklearn.metrics import roc_curve, auc, roc_auc_score\n",
    "\n",
    "actual_labels = data['class']\n",
    "predicted_probabilities = [0 if label == 0 else 1 for label in data['scored.class']]\n",
    "\n",
    "# Calculate ROC curve\n",
    "fpr, tpr, thresholds = roc_curve(actual_labels, predicted_probabilities) #The thresholds variable contains the different classification thresholds used to calculate fpr and tpr\n",
    "\n",
    "# Calculate AUC\n",
    "roc_auc = auc(fpr, tpr)\n",
    "\n",
    "# Plot the ROC curve\n",
    "plt.figure(figsize=(8, 6))\n",
    "plt.plot(fpr, tpr, color='darkorange', lw=2, label='ROC curve (area = %0.2f)' % roc_auc)\n",
    "plt.plot([0, 1], [0, 1], color='navy', lw=2, linestyle='--')\n",
    "plt.xlim([0.0, 1.0])\n",
    "plt.ylim([0.0, 1.05])\n",
    "plt.xlabel('False Positive Rate')\n",
    "plt.ylabel('True Positive Rate')\n",
    "plt.title('ROC Curve')\n",
    "plt.legend(loc=\"lower right\")\n",
    "plt.show()\n",
    "\n",
    "# Print the AUC\n",
    "print(\"AUC (Area Under the ROC Curve):\", roc_auc)\n"
   ]
  },
  {
   "cell_type": "markdown",
   "id": "b536da81",
   "metadata": {},
   "source": [
    "AUC = 1.0 (I created without using primary function):\n",
    "\n",
    "An AUC of 1.0 indicates a perfect classifier. It means that our custom ROC curve perfectly separates the positive and negative classes across all possible thresholds, resulting in a flawless model. This is highly unusual and suggests that there might be an issue with our custom ROC curve or the data used for evaluation.\n",
    "AUC (Area Under the ROC Curve): ~0.7167 (Scikit-Learn):\n",
    "\n",
    "An AUC of approximately 0.7167 suggests that the scikit-learn ROC curve represents a classifier that performs reasonably well but is not perfect. It means that the model distinguishes between positive and negative cases, but there is room for improvement."
   ]
  },
  {
   "cell_type": "code",
   "execution_count": null,
   "id": "b3fbf6b7",
   "metadata": {},
   "outputs": [],
   "source": []
  }
 ],
 "metadata": {
  "kernelspec": {
   "display_name": "Python 3 (ipykernel)",
   "language": "python",
   "name": "python3"
  },
  "language_info": {
   "codemirror_mode": {
    "name": "ipython",
    "version": 3
   },
   "file_extension": ".py",
   "mimetype": "text/x-python",
   "name": "python",
   "nbconvert_exporter": "python",
   "pygments_lexer": "ipython3",
   "version": "3.11.5"
  }
 },
 "nbformat": 4,
 "nbformat_minor": 5
}
